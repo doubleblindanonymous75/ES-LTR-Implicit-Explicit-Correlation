{
 "cells": [
  {
   "cell_type": "code",
   "execution_count": 1,
   "id": "fcf16960",
   "metadata": {
    "_cell_guid": "b1076dfc-b9ad-4769-8c92-a6c4dae69d19",
    "_uuid": "8f2839f25d086af736a60e9eeb907d3b93b6e0e5",
    "execution": {
     "iopub.execute_input": "2022-07-30T10:33:14.149164Z",
     "iopub.status.busy": "2022-07-30T10:33:14.147939Z",
     "iopub.status.idle": "2022-07-30T10:33:14.171860Z",
     "shell.execute_reply": "2022-07-30T10:33:14.171026Z"
    },
    "papermill": {
     "duration": 0.037991,
     "end_time": "2022-07-30T10:33:14.174528",
     "exception": false,
     "start_time": "2022-07-30T10:33:14.136537",
     "status": "completed"
    },
    "tags": []
   },
   "outputs": [
    {
     "name": "stdout",
     "output_type": "stream",
     "text": [
      "/kaggle/input/explicitimplicitv5/explicit-implicit-v5.csv\n",
      "/kaggle/input/entrp-srch/ENTRP-SRCH-v12.txt\n"
     ]
    }
   ],
   "source": [
    "\n",
    "import numpy as np # linear algebra\n",
    "import pandas as pd # data processing, CSV file I/O (e.g. pd.read_csv)\n",
    "\n",
    "\n",
    "import os\n",
    "for dirname, _, filenames in os.walk('/kaggle/input'):\n",
    "    for filename in filenames:\n",
    "        print(os.path.join(dirname, filename))\n",
    "\n"
   ]
  },
  {
   "cell_type": "markdown",
   "id": "77bfb14a",
   "metadata": {
    "papermill": {
     "duration": 0.008209,
     "end_time": "2022-07-30T10:33:14.191234",
     "exception": false,
     "start_time": "2022-07-30T10:33:14.183025",
     "status": "completed"
    },
    "tags": []
   },
   "source": [
    "**This script performs a correlation between two implicit (click-though data) and explicit (human relevance judgement) feedback for an Enterprise Search (ES) service that uses Learning to Rank (LTR)**"
   ]
  },
  {
   "cell_type": "markdown",
   "id": "1f93f27e",
   "metadata": {
    "papermill": {
     "duration": 0.00784,
     "end_time": "2022-07-30T10:33:14.207320",
     "exception": false,
     "start_time": "2022-07-30T10:33:14.199480",
     "status": "completed"
    },
    "tags": []
   },
   "source": []
  },
  {
   "cell_type": "code",
   "execution_count": 2,
   "id": "446514ae",
   "metadata": {
    "execution": {
     "iopub.execute_input": "2022-07-30T10:33:14.226338Z",
     "iopub.status.busy": "2022-07-30T10:33:14.225580Z",
     "iopub.status.idle": "2022-07-30T10:33:14.229734Z",
     "shell.execute_reply": "2022-07-30T10:33:14.228843Z"
    },
    "papermill": {
     "duration": 0.016544,
     "end_time": "2022-07-30T10:33:14.232257",
     "exception": false,
     "start_time": "2022-07-30T10:33:14.215713",
     "status": "completed"
    },
    "tags": []
   },
   "outputs": [],
   "source": [
    "# Much of the code in this notebook inspired by \n",
    "# https://towardsdatascience.com/compare-multiple-frequency-distributions-to-extract-valuable-information-from-a-dataset-10cba801f07b\n",
    "# "
   ]
  },
  {
   "cell_type": "code",
   "execution_count": 3,
   "id": "04d36e5b",
   "metadata": {
    "execution": {
     "iopub.execute_input": "2022-07-30T10:33:14.252170Z",
     "iopub.status.busy": "2022-07-30T10:33:14.251729Z",
     "iopub.status.idle": "2022-07-30T10:33:14.256686Z",
     "shell.execute_reply": "2022-07-30T10:33:14.255731Z"
    },
    "papermill": {
     "duration": 0.017208,
     "end_time": "2022-07-30T10:33:14.258672",
     "exception": false,
     "start_time": "2022-07-30T10:33:14.241464",
     "status": "completed"
    },
    "tags": []
   },
   "outputs": [],
   "source": [
    "#!pip3 install -U datapane >/dev/null 2>&1"
   ]
  },
  {
   "cell_type": "code",
   "execution_count": 4,
   "id": "4e44a663",
   "metadata": {
    "execution": {
     "iopub.execute_input": "2022-07-30T10:33:14.277887Z",
     "iopub.status.busy": "2022-07-30T10:33:14.277116Z",
     "iopub.status.idle": "2022-07-30T10:33:14.282417Z",
     "shell.execute_reply": "2022-07-30T10:33:14.281205Z"
    },
    "papermill": {
     "duration": 0.017722,
     "end_time": "2022-07-30T10:33:14.284777",
     "exception": false,
     "start_time": "2022-07-30T10:33:14.267055",
     "status": "completed"
    },
    "tags": []
   },
   "outputs": [],
   "source": [
    "#!pip3 install -U jinja2"
   ]
  },
  {
   "cell_type": "code",
   "execution_count": 5,
   "id": "27b42fb5",
   "metadata": {
    "execution": {
     "iopub.execute_input": "2022-07-30T10:33:14.304156Z",
     "iopub.status.busy": "2022-07-30T10:33:14.303354Z",
     "iopub.status.idle": "2022-07-30T10:33:15.776644Z",
     "shell.execute_reply": "2022-07-30T10:33:15.775310Z"
    },
    "papermill": {
     "duration": 1.486284,
     "end_time": "2022-07-30T10:33:15.779500",
     "exception": false,
     "start_time": "2022-07-30T10:33:14.293216",
     "status": "completed"
    },
    "tags": []
   },
   "outputs": [],
   "source": [
    "import seaborn as sns\n",
    "import altair as alt \n",
    "import pandas as pd\n",
    "\n",
    "\n",
    "exim0=pd.read_csv(\"/kaggle/input/explicitimplicitv5/explicit-implicit-v5.csv\")\n",
    "\n",
    "exim=pd.read_csv(\"/kaggle/input/entrp-srch/ENTRP-SRCH-v12.txt\",sep='\\s+', header=None, names=[\"HUMAN\", \"QID\", \"BM25\", \"RECENCY\", \"CONTACT\", \"ABOUT\", \"RAWHITS\",\"URL-LEN\",\"LINKRANK\",\"CTR-6\"])"
   ]
  },
  {
   "cell_type": "code",
   "execution_count": 6,
   "id": "293d4360",
   "metadata": {
    "execution": {
     "iopub.execute_input": "2022-07-30T10:33:15.799344Z",
     "iopub.status.busy": "2022-07-30T10:33:15.797987Z",
     "iopub.status.idle": "2022-07-30T10:33:15.812571Z",
     "shell.execute_reply": "2022-07-30T10:33:15.811169Z"
    },
    "papermill": {
     "duration": 0.027938,
     "end_time": "2022-07-30T10:33:15.816005",
     "exception": false,
     "start_time": "2022-07-30T10:33:15.788067",
     "status": "completed"
    },
    "tags": []
   },
   "outputs": [],
   "source": [
    "exim['CTR-6'] = exim['CTR-6'].str[2:]"
   ]
  },
  {
   "cell_type": "code",
   "execution_count": 7,
   "id": "f7d1fe5b",
   "metadata": {
    "execution": {
     "iopub.execute_input": "2022-07-30T10:33:15.836343Z",
     "iopub.status.busy": "2022-07-30T10:33:15.835734Z",
     "iopub.status.idle": "2022-07-30T10:33:15.852501Z",
     "shell.execute_reply": "2022-07-30T10:33:15.851030Z"
    },
    "papermill": {
     "duration": 0.029526,
     "end_time": "2022-07-30T10:33:15.855195",
     "exception": false,
     "start_time": "2022-07-30T10:33:15.825669",
     "status": "completed"
    },
    "tags": []
   },
   "outputs": [],
   "source": [
    "#exim[\"HUMAN\"] = pd.to_numeric(exim[\"HUMAN\"])\n",
    "# convert just columns \"a\" and \"b\"\n",
    "exim[[\"HUMAN\", \"CTR-6\"]] = exim[[\"HUMAN\", \"CTR-6\"]].apply(pd.to_numeric)\n"
   ]
  },
  {
   "cell_type": "code",
   "execution_count": 8,
   "id": "23ec76e3",
   "metadata": {
    "execution": {
     "iopub.execute_input": "2022-07-30T10:33:15.876395Z",
     "iopub.status.busy": "2022-07-30T10:33:15.875331Z",
     "iopub.status.idle": "2022-07-30T10:33:15.900451Z",
     "shell.execute_reply": "2022-07-30T10:33:15.898861Z"
    },
    "papermill": {
     "duration": 0.038058,
     "end_time": "2022-07-30T10:33:15.903136",
     "exception": false,
     "start_time": "2022-07-30T10:33:15.865078",
     "status": "completed"
    },
    "tags": []
   },
   "outputs": [
    {
     "data": {
      "text/html": [
       "<div>\n",
       "<style scoped>\n",
       "    .dataframe tbody tr th:only-of-type {\n",
       "        vertical-align: middle;\n",
       "    }\n",
       "\n",
       "    .dataframe tbody tr th {\n",
       "        vertical-align: top;\n",
       "    }\n",
       "\n",
       "    .dataframe thead th {\n",
       "        text-align: right;\n",
       "    }\n",
       "</style>\n",
       "<table border=\"1\" class=\"dataframe\">\n",
       "  <thead>\n",
       "    <tr style=\"text-align: right;\">\n",
       "      <th></th>\n",
       "      <th>HUMAN</th>\n",
       "      <th>QID</th>\n",
       "      <th>BM25</th>\n",
       "      <th>RECENCY</th>\n",
       "      <th>CONTACT</th>\n",
       "      <th>ABOUT</th>\n",
       "      <th>RAWHITS</th>\n",
       "      <th>URL-LEN</th>\n",
       "      <th>LINKRANK</th>\n",
       "      <th>CTR-6</th>\n",
       "    </tr>\n",
       "  </thead>\n",
       "  <tbody>\n",
       "    <tr>\n",
       "      <th>0</th>\n",
       "      <td>5</td>\n",
       "      <td>qid:1</td>\n",
       "      <td>1:7.621721</td>\n",
       "      <td>2:0.01871686</td>\n",
       "      <td>3:0.0</td>\n",
       "      <td>4:0.0</td>\n",
       "      <td>5:34.0</td>\n",
       "      <td>6:6.0</td>\n",
       "      <td>7:1.080049</td>\n",
       "      <td>0.19</td>\n",
       "    </tr>\n",
       "    <tr>\n",
       "      <th>1</th>\n",
       "      <td>3</td>\n",
       "      <td>qid:1</td>\n",
       "      <td>1:7.60648</td>\n",
       "      <td>2:0.01871686</td>\n",
       "      <td>3:0.0</td>\n",
       "      <td>4:0.0</td>\n",
       "      <td>5:22.0</td>\n",
       "      <td>6:8.0</td>\n",
       "      <td>7:0.42990547</td>\n",
       "      <td>0.04</td>\n",
       "    </tr>\n",
       "    <tr>\n",
       "      <th>2</th>\n",
       "      <td>4</td>\n",
       "      <td>qid:1</td>\n",
       "      <td>1:5.8517275</td>\n",
       "      <td>2:0.01871686</td>\n",
       "      <td>3:0.0</td>\n",
       "      <td>4:0.0</td>\n",
       "      <td>5:22.0</td>\n",
       "      <td>6:7.0</td>\n",
       "      <td>7:0.4299054</td>\n",
       "      <td>0.03</td>\n",
       "    </tr>\n",
       "    <tr>\n",
       "      <th>3</th>\n",
       "      <td>5</td>\n",
       "      <td>qid:1</td>\n",
       "      <td>1:8.211309</td>\n",
       "      <td>2:0.01871686</td>\n",
       "      <td>3:0.0</td>\n",
       "      <td>4:1.0</td>\n",
       "      <td>5:4.0</td>\n",
       "      <td>6:7.0</td>\n",
       "      <td>7:0.42990547</td>\n",
       "      <td>0.09</td>\n",
       "    </tr>\n",
       "    <tr>\n",
       "      <th>4</th>\n",
       "      <td>3</td>\n",
       "      <td>qid:1</td>\n",
       "      <td>1:4.7186995</td>\n",
       "      <td>2:0.01871686</td>\n",
       "      <td>3:0.0</td>\n",
       "      <td>4:0.0</td>\n",
       "      <td>5:22.0</td>\n",
       "      <td>6:9.0</td>\n",
       "      <td>7:0.42990544</td>\n",
       "      <td>0.00</td>\n",
       "    </tr>\n",
       "  </tbody>\n",
       "</table>\n",
       "</div>"
      ],
      "text/plain": [
       "   HUMAN    QID         BM25       RECENCY CONTACT  ABOUT RAWHITS URL-LEN  \\\n",
       "0      5  qid:1   1:7.621721  2:0.01871686   3:0.0  4:0.0  5:34.0   6:6.0   \n",
       "1      3  qid:1    1:7.60648  2:0.01871686   3:0.0  4:0.0  5:22.0   6:8.0   \n",
       "2      4  qid:1  1:5.8517275  2:0.01871686   3:0.0  4:0.0  5:22.0   6:7.0   \n",
       "3      5  qid:1   1:8.211309  2:0.01871686   3:0.0  4:1.0   5:4.0   6:7.0   \n",
       "4      3  qid:1  1:4.7186995  2:0.01871686   3:0.0  4:0.0  5:22.0   6:9.0   \n",
       "\n",
       "       LINKRANK  CTR-6  \n",
       "0    7:1.080049   0.19  \n",
       "1  7:0.42990547   0.04  \n",
       "2   7:0.4299054   0.03  \n",
       "3  7:0.42990547   0.09  \n",
       "4  7:0.42990544   0.00  "
      ]
     },
     "execution_count": 8,
     "metadata": {},
     "output_type": "execute_result"
    }
   ],
   "source": [
    "exim.head(5)"
   ]
  },
  {
   "cell_type": "code",
   "execution_count": 9,
   "id": "7e446758",
   "metadata": {
    "execution": {
     "iopub.execute_input": "2022-07-30T10:33:15.925744Z",
     "iopub.status.busy": "2022-07-30T10:33:15.924293Z",
     "iopub.status.idle": "2022-07-30T10:33:15.933376Z",
     "shell.execute_reply": "2022-07-30T10:33:15.932147Z"
    },
    "papermill": {
     "duration": 0.022673,
     "end_time": "2022-07-30T10:33:15.935875",
     "exception": false,
     "start_time": "2022-07-30T10:33:15.913202",
     "status": "completed"
    },
    "tags": []
   },
   "outputs": [],
   "source": [
    "# eclude those documents that have no (NULL) CTR score \n",
    "exim = exim[exim[\"CTR-6\"] != 0.00]"
   ]
  },
  {
   "cell_type": "code",
   "execution_count": 10,
   "id": "1493bbc3",
   "metadata": {
    "execution": {
     "iopub.execute_input": "2022-07-30T10:33:15.957225Z",
     "iopub.status.busy": "2022-07-30T10:33:15.956398Z",
     "iopub.status.idle": "2022-07-30T10:33:15.970388Z",
     "shell.execute_reply": "2022-07-30T10:33:15.969171Z"
    },
    "papermill": {
     "duration": 0.027344,
     "end_time": "2022-07-30T10:33:15.972789",
     "exception": false,
     "start_time": "2022-07-30T10:33:15.945445",
     "status": "completed"
    },
    "tags": []
   },
   "outputs": [
    {
     "data": {
      "text/plain": [
       "<bound method NDFrame.describe of       HUMAN     QID         BM25       RECENCY CONTACT  ABOUT RAWHITS URL-LEN  \\\n",
       "0         5   qid:1   1:7.621721  2:0.01871686   3:0.0  4:0.0  5:34.0   6:6.0   \n",
       "1         3   qid:1    1:7.60648  2:0.01871686   3:0.0  4:0.0  5:22.0   6:8.0   \n",
       "2         4   qid:1  1:5.8517275  2:0.01871686   3:0.0  4:0.0  5:22.0   6:7.0   \n",
       "3         5   qid:1   1:8.211309  2:0.01871686   3:0.0  4:1.0   5:4.0   6:7.0   \n",
       "5         5   qid:1    1:7.60648  2:0.01871686   3:0.0  4:0.0   5:4.0   6:7.0   \n",
       "...     ...     ...          ...           ...     ...    ...     ...     ...   \n",
       "2367      3  qid:20   1:5.666758  2:0.01871686   3:0.0  4:0.0   5:6.0   6:8.0   \n",
       "2375      2  qid:20  1:4.3778353  2:0.01871686   3:0.0  4:0.0  5:10.0   6:9.0   \n",
       "2377      2  qid:20  1:3.2534223  2:0.01871686   3:0.0  4:0.0  5:14.0   6:9.0   \n",
       "2382      2  qid:20  1:3.8906693  2:0.01871686   3:0.0  4:0.0  5:10.0   6:9.0   \n",
       "2477      1  qid:20  1:5.9128585  2:0.01871686   3:0.0  4:0.0   5:2.0  6:15.0   \n",
       "\n",
       "          LINKRANK  CTR-6  \n",
       "0       7:1.080049  0.190  \n",
       "1     7:0.42990547  0.040  \n",
       "2      7:0.4299054  0.030  \n",
       "3     7:0.42990547  0.090  \n",
       "5     7:0.17706141  0.170  \n",
       "...            ...    ...  \n",
       "2367     7:1.19694  0.001  \n",
       "2375     7:1.19694  0.001  \n",
       "2377   7:1.1969395  0.001  \n",
       "2382   7:1.1969393  0.001  \n",
       "2477  7:0.16845825  0.001  \n",
       "\n",
       "[375 rows x 10 columns]>"
      ]
     },
     "execution_count": 10,
     "metadata": {},
     "output_type": "execute_result"
    }
   ],
   "source": [
    "exim.describe"
   ]
  },
  {
   "cell_type": "code",
   "execution_count": 11,
   "id": "d797fec5",
   "metadata": {
    "execution": {
     "iopub.execute_input": "2022-07-30T10:33:15.994363Z",
     "iopub.status.busy": "2022-07-30T10:33:15.993476Z",
     "iopub.status.idle": "2022-07-30T10:33:15.997874Z",
     "shell.execute_reply": "2022-07-30T10:33:15.997030Z"
    },
    "papermill": {
     "duration": 0.017383,
     "end_time": "2022-07-30T10:33:16.000244",
     "exception": false,
     "start_time": "2022-07-30T10:33:15.982861",
     "status": "completed"
    },
    "tags": []
   },
   "outputs": [],
   "source": [
    "#exim.describe"
   ]
  },
  {
   "cell_type": "code",
   "execution_count": 12,
   "id": "75d436d8",
   "metadata": {
    "execution": {
     "iopub.execute_input": "2022-07-30T10:33:16.021297Z",
     "iopub.status.busy": "2022-07-30T10:33:16.020341Z",
     "iopub.status.idle": "2022-07-30T10:33:16.025209Z",
     "shell.execute_reply": "2022-07-30T10:33:16.024235Z"
    },
    "papermill": {
     "duration": 0.017726,
     "end_time": "2022-07-30T10:33:16.027293",
     "exception": false,
     "start_time": "2022-07-30T10:33:16.009567",
     "status": "completed"
    },
    "tags": []
   },
   "outputs": [],
   "source": [
    "#exim.info"
   ]
  },
  {
   "cell_type": "code",
   "execution_count": 13,
   "id": "e9ffb442",
   "metadata": {
    "execution": {
     "iopub.execute_input": "2022-07-30T10:33:16.047389Z",
     "iopub.status.busy": "2022-07-30T10:33:16.046786Z",
     "iopub.status.idle": "2022-07-30T10:33:16.052205Z",
     "shell.execute_reply": "2022-07-30T10:33:16.051185Z"
    },
    "papermill": {
     "duration": 0.018297,
     "end_time": "2022-07-30T10:33:16.054361",
     "exception": false,
     "start_time": "2022-07-30T10:33:16.036064",
     "status": "completed"
    },
    "tags": []
   },
   "outputs": [],
   "source": [
    "import seaborn as sns\n",
    "\n",
    "import matplotlib.pyplot as plt\n"
   ]
  },
  {
   "cell_type": "code",
   "execution_count": 14,
   "id": "98ae714e",
   "metadata": {
    "execution": {
     "iopub.execute_input": "2022-07-30T10:33:16.075177Z",
     "iopub.status.busy": "2022-07-30T10:33:16.074260Z",
     "iopub.status.idle": "2022-07-30T10:33:16.082890Z",
     "shell.execute_reply": "2022-07-30T10:33:16.082005Z"
    },
    "papermill": {
     "duration": 0.021602,
     "end_time": "2022-07-30T10:33:16.085104",
     "exception": false,
     "start_time": "2022-07-30T10:33:16.063502",
     "status": "completed"
    },
    "tags": []
   },
   "outputs": [],
   "source": [
    "#sns.stripplot(x = 'Pos', y = 'Height', data = wnba)\n",
    "sns.set(rc={'figure.figsize':(15,10)})\n",
    "sns.set(font_scale=2)\n",
    "\n",
    "#sns.stripplot(x = 'HUMAN', y = 'CLICK-THRU-6', data = exim).set(title='Strip Plot of raw Click-through versus human relevance judgements',xlabel='human relevance judgements',ylabel='raw Click-through 6 months')"
   ]
  },
  {
   "cell_type": "code",
   "execution_count": 15,
   "id": "1bfbfa61",
   "metadata": {
    "execution": {
     "iopub.execute_input": "2022-07-30T10:33:16.106801Z",
     "iopub.status.busy": "2022-07-30T10:33:16.105340Z",
     "iopub.status.idle": "2022-07-30T10:33:16.459209Z",
     "shell.execute_reply": "2022-07-30T10:33:16.458162Z"
    },
    "papermill": {
     "duration": 0.366572,
     "end_time": "2022-07-30T10:33:16.461540",
     "exception": false,
     "start_time": "2022-07-30T10:33:16.094968",
     "status": "completed"
    },
    "tags": []
   },
   "outputs": [
    {
     "data": {
      "text/plain": [
       "[Text(0.5, 1.0, 'Strip Plot of CTR versus Human relevance judgements'),\n",
       " Text(0.5, 0, 'Human relevance judgements'),\n",
       " Text(0, 0.5, 'CTR %')]"
      ]
     },
     "execution_count": 15,
     "metadata": {},
     "output_type": "execute_result"
    },
    {
     "data": {
      "image/png": "[encoded data removed]",
      "text/plain": [
       "<Figure size 1080x720 with 1 Axes>"
      ]
     },
     "metadata": {},
     "output_type": "display_data"
    }
   ],
   "source": [
    "sns.set(rc={'figure.figsize':(15,10)})\n",
    "sns.set(font_scale=2)\n",
    "\n",
    "sns.stripplot(x = 'HUMAN', y = 'CTR-6', data = exim).set(title='Strip Plot of CTR versus Human relevance judgements',xlabel='Human relevance judgements',ylabel='CTR %')"
   ]
  },
  {
   "cell_type": "code",
   "execution_count": 16,
   "id": "11a8fad6",
   "metadata": {
    "execution": {
     "iopub.execute_input": "2022-07-30T10:33:16.483594Z",
     "iopub.status.busy": "2022-07-30T10:33:16.483071Z",
     "iopub.status.idle": "2022-07-30T10:33:16.488688Z",
     "shell.execute_reply": "2022-07-30T10:33:16.487378Z"
    },
    "papermill": {
     "duration": 0.021059,
     "end_time": "2022-07-30T10:33:16.492489",
     "exception": false,
     "start_time": "2022-07-30T10:33:16.471430",
     "status": "completed"
    },
    "tags": []
   },
   "outputs": [],
   "source": [
    "#sns.boxplot(x = 'Pos', y = 'Height', data = wnba)\n",
    "#sns.boxplot(x = 'HUMAN', y = 'CLICK-THRU-6', data = exim)"
   ]
  },
  {
   "cell_type": "code",
   "execution_count": 17,
   "id": "f8e41f6c",
   "metadata": {
    "execution": {
     "iopub.execute_input": "2022-07-30T10:33:16.518282Z",
     "iopub.status.busy": "2022-07-30T10:33:16.517639Z",
     "iopub.status.idle": "2022-07-30T10:33:16.523686Z",
     "shell.execute_reply": "2022-07-30T10:33:16.522268Z"
    },
    "papermill": {
     "duration": 0.021404,
     "end_time": "2022-07-30T10:33:16.526184",
     "exception": false,
     "start_time": "2022-07-30T10:33:16.504780",
     "status": "completed"
    },
    "tags": []
   },
   "outputs": [],
   "source": [
    "#sns.set(rc={'figure.figsize':(11.7,8.27)})\n",
    "#sns.boxplot(x = 'Pos', y = 'Height', data = wnba, whis=4)\n",
    "#sns.boxplot(x = 'HUMAN', y = 'CLICK-THRU-6', data = exim, whis=4)"
   ]
  },
  {
   "cell_type": "code",
   "execution_count": 18,
   "id": "c077e136",
   "metadata": {
    "execution": {
     "iopub.execute_input": "2022-07-30T10:33:16.549784Z",
     "iopub.status.busy": "2022-07-30T10:33:16.548576Z",
     "iopub.status.idle": "2022-07-30T10:33:16.861396Z",
     "shell.execute_reply": "2022-07-30T10:33:16.860127Z"
    },
    "papermill": {
     "duration": 0.327397,
     "end_time": "2022-07-30T10:33:16.864089",
     "exception": false,
     "start_time": "2022-07-30T10:33:16.536692",
     "status": "completed"
    },
    "tags": []
   },
   "outputs": [
    {
     "data": {
      "text/plain": [
       "[Text(0.5, 1.0, 'Box Plot of CTR versus Human relevance judgements'),\n",
       " Text(0.5, 0, 'Human relevance judgements'),\n",
       " Text(0, 0.5, 'CTR %')]"
      ]
     },
     "execution_count": 18,
     "metadata": {},
     "output_type": "execute_result"
    },
    {
     "data": {
      "image/png": "[encoded data removed]",
      "text/plain": [
       "<Figure size 1080x720 with 1 Axes>"
      ]
     },
     "metadata": {},
     "output_type": "display_data"
    }
   ],
   "source": [
    "sns.boxplot(x = 'HUMAN', y = 'CTR-6', data = exim, whis=4).set(title='Box Plot of CTR versus Human relevance judgements',xlabel='Human relevance judgements',ylabel='CTR %')"
   ]
  },
  {
   "cell_type": "code",
   "execution_count": 19,
   "id": "71160598",
   "metadata": {
    "execution": {
     "iopub.execute_input": "2022-07-30T10:33:16.890259Z",
     "iopub.status.busy": "2022-07-30T10:33:16.889132Z",
     "iopub.status.idle": "2022-07-30T10:33:29.869306Z",
     "shell.execute_reply": "2022-07-30T10:33:29.868086Z"
    },
    "papermill": {
     "duration": 12.996446,
     "end_time": "2022-07-30T10:33:29.872244",
     "exception": false,
     "start_time": "2022-07-30T10:33:16.875798",
     "status": "completed"
    },
    "tags": []
   },
   "outputs": [
    {
     "name": "stdout",
     "output_type": "stream",
     "text": [
      "Requirement already satisfied: scipy in /opt/conda/lib/python3.7/site-packages (1.7.3)\r\n",
      "Requirement already satisfied: numpy<1.23.0,>=1.16.5 in /opt/conda/lib/python3.7/site-packages (from scipy) (1.21.6)\r\n",
      "\u001b[33mWARNING: Running pip as the 'root' user can result in broken permissions and conflicting behaviour with the system package manager. It is recommended to use a virtual environment instead: https://pip.pypa.io/warnings/venv\u001b[0m\u001b[33m\r\n",
      "\u001b[0m"
     ]
    }
   ],
   "source": [
    "!pip3 install scipy"
   ]
  },
  {
   "cell_type": "code",
   "execution_count": 20,
   "id": "bc016abb",
   "metadata": {
    "execution": {
     "iopub.execute_input": "2022-07-30T10:33:29.897914Z",
     "iopub.status.busy": "2022-07-30T10:33:29.897444Z",
     "iopub.status.idle": "2022-07-30T10:33:29.903882Z",
     "shell.execute_reply": "2022-07-30T10:33:29.902467Z"
    },
    "papermill": {
     "duration": 0.022558,
     "end_time": "2022-07-30T10:33:29.906518",
     "exception": false,
     "start_time": "2022-07-30T10:33:29.883960",
     "status": "completed"
    },
    "tags": []
   },
   "outputs": [],
   "source": [
    "from scipy.stats import ttest_rel"
   ]
  },
  {
   "cell_type": "code",
   "execution_count": 21,
   "id": "fd5f74cb",
   "metadata": {
    "execution": {
     "iopub.execute_input": "2022-07-30T10:33:29.931451Z",
     "iopub.status.busy": "2022-07-30T10:33:29.931000Z",
     "iopub.status.idle": "2022-07-30T10:33:29.935392Z",
     "shell.execute_reply": "2022-07-30T10:33:29.934421Z"
    },
    "papermill": {
     "duration": 0.01953,
     "end_time": "2022-07-30T10:33:29.937687",
     "exception": false,
     "start_time": "2022-07-30T10:33:29.918157",
     "status": "completed"
    },
    "tags": []
   },
   "outputs": [],
   "source": [
    "#exim.rename(columns={'HUMAN':'','CTR-6:''})"
   ]
  },
  {
   "cell_type": "code",
   "execution_count": 22,
   "id": "d12b6dc1",
   "metadata": {
    "execution": {
     "iopub.execute_input": "2022-07-30T10:33:29.962185Z",
     "iopub.status.busy": "2022-07-30T10:33:29.961772Z",
     "iopub.status.idle": "2022-07-30T10:33:29.966996Z",
     "shell.execute_reply": "2022-07-30T10:33:29.966277Z"
    },
    "papermill": {
     "duration": 0.020025,
     "end_time": "2022-07-30T10:33:29.969049",
     "exception": false,
     "start_time": "2022-07-30T10:33:29.949024",
     "status": "completed"
    },
    "tags": []
   },
   "outputs": [],
   "source": [
    "\n",
    "# calculate the Pearson's correlation between two variables\n",
    "from numpy.random import randn\n",
    "from numpy.random import seed\n",
    "from scipy.stats import pearsonr\n",
    "from scipy.stats import spearmanr\n",
    "# seed random number generator\n",
    "seed(1)\n",
    "# prepare data"
   ]
  },
  {
   "cell_type": "code",
   "execution_count": 23,
   "id": "7ade2ab0",
   "metadata": {
    "execution": {
     "iopub.execute_input": "2022-07-30T10:33:29.994209Z",
     "iopub.status.busy": "2022-07-30T10:33:29.993802Z",
     "iopub.status.idle": "2022-07-30T10:33:29.998475Z",
     "shell.execute_reply": "2022-07-30T10:33:29.997436Z"
    },
    "papermill": {
     "duration": 0.020434,
     "end_time": "2022-07-30T10:33:30.001197",
     "exception": false,
     "start_time": "2022-07-30T10:33:29.980763",
     "status": "completed"
    },
    "tags": []
   },
   "outputs": [],
   "source": [
    "#data1 = exim['HUMAN']\n",
    "#data2 = exim['CLICK-THRU-6']#\n",
    "\n",
    "#data1 = data1.dropna()\n",
    "#data2 = data2.dropna()\n",
    "\n",
    "# calculate Pearson's correlation\n",
    "#corr, _ = pearsonr(data1, data2)\n",
    "#print('Pearsons correlation human v raw click-through: %.3f' % corr)"
   ]
  },
  {
   "cell_type": "code",
   "execution_count": 24,
   "id": "cb16b3fc",
   "metadata": {
    "execution": {
     "iopub.execute_input": "2022-07-30T10:33:30.026873Z",
     "iopub.status.busy": "2022-07-30T10:33:30.026471Z",
     "iopub.status.idle": "2022-07-30T10:33:30.033864Z",
     "shell.execute_reply": "2022-07-30T10:33:30.032749Z"
    },
    "papermill": {
     "duration": 0.023532,
     "end_time": "2022-07-30T10:33:30.036572",
     "exception": false,
     "start_time": "2022-07-30T10:33:30.013040",
     "status": "completed"
    },
    "tags": []
   },
   "outputs": [
    {
     "name": "stdout",
     "output_type": "stream",
     "text": [
      "Pearsons correlation human v CTR : 0.621\n"
     ]
    }
   ],
   "source": [
    "data1 = exim['HUMAN']\n",
    "data2 = exim['CTR-6']\n",
    "\n",
    "#data1 = data1.dropna()\n",
    "#data2 = data2.dropna()\n",
    "\n",
    "# calculate Pearson's correlation\n",
    "corr, _ = pearsonr(data1, data2)\n",
    "print('Pearsons correlation human v CTR : %.3f' % corr)"
   ]
  },
  {
   "cell_type": "code",
   "execution_count": 25,
   "id": "ee275dfb",
   "metadata": {
    "execution": {
     "iopub.execute_input": "2022-07-30T10:33:30.061137Z",
     "iopub.status.busy": "2022-07-30T10:33:30.060749Z",
     "iopub.status.idle": "2022-07-30T10:33:30.070745Z",
     "shell.execute_reply": "2022-07-30T10:33:30.069679Z"
    },
    "papermill": {
     "duration": 0.025184,
     "end_time": "2022-07-30T10:33:30.073159",
     "exception": false,
     "start_time": "2022-07-30T10:33:30.047975",
     "status": "completed"
    },
    "tags": []
   },
   "outputs": [
    {
     "name": "stdout",
     "output_type": "stream",
     "text": [
      "Spearmans correlation:  human v click-through-rate: 0.704\n"
     ]
    }
   ],
   "source": [
    "data1 = exim['HUMAN']\n",
    "data2 = exim['CTR-6']\n",
    "\n",
    "#data1 = data1.dropna()\n",
    "#data2 = data2.dropna()\n",
    "\n",
    "from scipy.stats import spearmanr\n",
    "corr, _ = spearmanr(data1, data2)\n",
    "print('Spearmans correlation:  human v click-through-rate: %.3f' % corr)"
   ]
  },
  {
   "cell_type": "code",
   "execution_count": 26,
   "id": "f4f58fdf",
   "metadata": {
    "execution": {
     "iopub.execute_input": "2022-07-30T10:33:30.096901Z",
     "iopub.status.busy": "2022-07-30T10:33:30.096547Z",
     "iopub.status.idle": "2022-07-30T10:33:30.106595Z",
     "shell.execute_reply": "2022-07-30T10:33:30.104279Z"
    },
    "papermill": {
     "duration": 0.025403,
     "end_time": "2022-07-30T10:33:30.109520",
     "exception": false,
     "start_time": "2022-07-30T10:33:30.084117",
     "status": "completed"
    },
    "tags": []
   },
   "outputs": [
    {
     "name": "stdout",
     "output_type": "stream",
     "text": [
      "Spearmans correlation coefficient: 0.704\n",
      "p-value 2.6240043152210554e-57\n",
      "Samples are correlated (reject H0) p=0.000\n"
     ]
    }
   ],
   "source": [
    "# calculate spearman's correlation\n",
    "coef, p = spearmanr(data1, data2)\n",
    "print('Spearmans correlation coefficient: %.3f' % coef)\n",
    "print ('p-value',p)\n",
    "# interpret the significance\n",
    "alpha = 0.05\n",
    "if p > alpha:\n",
    "\tprint('Samples are uncorrelated (fail to reject H0) p=%.3f' % p)\n",
    "else:\n",
    "\tprint('Samples are correlated (reject H0) p=%.3f' % p)"
   ]
  },
  {
   "cell_type": "code",
   "execution_count": 27,
   "id": "150c0b8f",
   "metadata": {
    "execution": {
     "iopub.execute_input": "2022-07-30T10:33:30.134675Z",
     "iopub.status.busy": "2022-07-30T10:33:30.134222Z",
     "iopub.status.idle": "2022-07-30T10:33:30.139857Z",
     "shell.execute_reply": "2022-07-30T10:33:30.138531Z"
    },
    "papermill": {
     "duration": 0.021521,
     "end_time": "2022-07-30T10:33:30.142477",
     "exception": false,
     "start_time": "2022-07-30T10:33:30.120956",
     "status": "completed"
    },
    "tags": []
   },
   "outputs": [],
   "source": [
    "#another way to report the results from the t-test by creating a violin plot:\n",
    "#sns.violinplot(x='HUMAN', y='CLICK-THRU-6', bw=10, data=exim)"
   ]
  },
  {
   "cell_type": "code",
   "execution_count": 28,
   "id": "c8b0fe4c",
   "metadata": {
    "execution": {
     "iopub.execute_input": "2022-07-30T10:33:30.167612Z",
     "iopub.status.busy": "2022-07-30T10:33:30.167211Z",
     "iopub.status.idle": "2022-07-30T10:33:30.505553Z",
     "shell.execute_reply": "2022-07-30T10:33:30.504073Z"
    },
    "papermill": {
     "duration": 0.354293,
     "end_time": "2022-07-30T10:33:30.508439",
     "exception": false,
     "start_time": "2022-07-30T10:33:30.154146",
     "status": "completed"
    },
    "tags": []
   },
   "outputs": [
    {
     "data": {
      "text/plain": [
       "<AxesSubplot:xlabel='HUMAN', ylabel='CTR-6'>"
      ]
     },
     "execution_count": 28,
     "metadata": {},
     "output_type": "execute_result"
    },
    {
     "data": {
      "image/png": "[encoded data removed]",
      "text/plain": [
       "<Figure size 1080x720 with 1 Axes>"
      ]
     },
     "metadata": {},
     "output_type": "display_data"
    }
   ],
   "source": [
    "#another way to report the results from the t-test by creating a violin plot:\n",
    "sns.violinplot(x='HUMAN', y='CTR-6', bw=2, data=exim)"
   ]
  }
 ],
 "metadata": {
  "kernelspec": {
   "display_name": "Python 3",
   "language": "python",
   "name": "python3"
  },
  "language_info": {
   "codemirror_mode": {
    "name": "ipython",
    "version": 3
   },
   "file_extension": ".py",
   "mimetype": "text/x-python",
   "name": "python",
   "nbconvert_exporter": "python",
   "pygments_lexer": "ipython3",
   "version": "3.7.12"
  },
  "papermill": {
   "default_parameters": {},
   "duration": 28.26393,
   "end_time": "2022-07-30T10:33:31.545390",
   "environment_variables": {},
   "exception": null,
   "input_path": "__notebook__.ipynb",
   "output_path": "__notebook__.ipynb",
   "parameters": {},
   "start_time": "2022-07-30T10:33:03.281460",
   "version": "2.3.4"
  }
 },
 "nbformat": 4,
 "nbformat_minor": 5
}
