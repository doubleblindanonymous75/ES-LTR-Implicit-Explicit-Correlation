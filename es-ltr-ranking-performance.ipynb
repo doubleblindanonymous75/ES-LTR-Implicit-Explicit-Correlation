 
   ]
  },
  {
   "cell_type": "markdown",
   "metadata": {
    "papermill": {
     "duration": 0.023492,
     "end_time": "2022-09-04T20:47:30.097380",
     "exception": false,
     "start_time": "2022-09-04T20:47:30.073888",
     "status": "completed"
    },
    "tags": []
   },
   "source": [
    "## Data\n",
    "\n",
    "The data I use is the ENTRP-SRCH dataset.\n",
    "\n",
    "The data is a LETOR-formatted, of the form: \"reference lable (ie ranking given by human), query id, query-url pairs (length 8 feature vectors)\".  \n",
    " "
   ]
  },
  {
   "cell_type": "code",
   "execution_count": 2,
   "metadata": {
    "execution": {
     "iopub.execute_input": "2022-09-04T20:47:30.149845Z",
     "iopub.status.busy": "2022-09-04T20:47:30.148842Z",
     "iopub.status.idle": "2022-09-04T20:47:30.161345Z",
     "shell.execute_reply": "2022-09-04T20:47:30.162185Z",
     "shell.execute_reply.started": "2022-09-04T20:45:59.786778Z"
    },
    "papermill": {
     "duration": 0.041035,
     "end_time": "2022-09-04T20:47:30.162426",
     "exception": false,
     "start_time": "2022-09-04T20:47:30.121391",
     "status": "completed"
    },
    "tags": []
   },
   "outputs": [
    {
     "name": "stdout",
     "output_type": "stream",
     "text": [
      "/kaggle/input/entrp-srch/ENTRP-SRCH-v14.txt\n"
     ]
    }
   ],
   "source": [
    "import os\n",
    "for dirname, _, filenames in os.walk('/kaggle/input'):\n",
    "    for filename in filenames:\n",
    "        print(os.path.join(dirname, filename))"
   ]
  },
  {
   "cell_type": "code",
   "execution_count": 3,
   "metadata": {
    "execution": {
     "iopub.execute_input": "2022-09-04T20:47:30.217647Z",
     "iopub.status.busy": "2022-09-04T20:47:30.216972Z",
     "iopub.status.idle": "2022-09-04T20:47:30.219072Z",
     "shell.execute_reply": "2022-09-04T20:47:30.219573Z",
     "shell.execute_reply.started": "2022-09-04T20:45:59.807991Z"
    },
    "papermill": {
     "duration": 0.031499,
     "end_time": "2022-09-04T20:47:30.219748",
     "exception": false,
     "start_time": "2022-09-04T20:47:30.188249",
     "status": "completed"
    },
    "tags": []
   },
   "outputs": [],
   "source": [
    "#qid query\n",
    "#1 asian\n",
    "#2 biochemistry\n",
    "#3 botany\n",
    "#4 chaplaincy\n",
    "#5 classics\n",
    "#6 commercial\n",
    "#7 dental\n",
    "#8 Engineering\n",
    "#9 English\n",
    "#10 european studies\n",
    "#11 genetics\n",
    "#12 geology\n",
    "#13 history\n",
    "#14 italian\n",
    "#15 microbiology\n",
    "#16 philosophy\n",
    "#17 religion\n",
    "#18 sociology\n",
    "#19 walton club\n",
    "#20 zoology\n",
    "\n",
    "# train subset\n",
    "# 1,2,3,4,5,6,7,8,9,10,11,12,13,14,15,16,17\n",
    "\n",
    "# test subset\n",
    "# 11,12,13,14,15,16,17\n",
    "\n",
    "# vali subset\n",
    "# 18,19,20"
   ]
  },
  {
   "cell_type": "code",
   "execution_count": 4,
   "metadata": {
    "execution": {
     "iopub.execute_input": "2022-09-04T20:47:30.271475Z",
     "iopub.status.busy": "2022-09-04T20:47:30.270820Z",
     "iopub.status.idle": "2022-09-04T20:47:30.275799Z",
     "shell.execute_reply": "2022-09-04T20:47:30.276330Z",
     "shell.execute_reply.started": "2022-09-04T20:45:59.829305Z"
    },
    "papermill": {
     "duration": 0.032498,
     "end_time": "2022-09-04T20:47:30.276484",
     "exception": false,
     "start_time": "2022-09-04T20:47:30.243986",
     "status": "completed"
    },
    "tags": []
   },
   "outputs": [],
   "source": [
    "# ensure any train, test and vali data are empty to start with\n",
    "def cleanup():\n",
    "    !rm -f train*.txt; rm -f test*.txt; rm -f vali*.txt; rm -f *.group; rm -f qids.txt; \n",
    "    #!ls -lrt"
   ]
  },
  {
   "cell_type": "code",
   "execution_count": 5,
   "metadata": {
    "execution": {
     "iopub.execute_input": "2022-09-04T20:47:30.328586Z",
     "iopub.status.busy": "2022-09-04T20:47:30.327882Z",
     "iopub.status.idle": "2022-09-04T20:47:30.368800Z",
     "shell.execute_reply": "2022-09-04T20:47:30.368089Z",
     "shell.execute_reply.started": "2022-09-04T20:45:59.851293Z"
    },
    "papermill": {
     "duration": 0.06807,
     "end_time": "2022-09-04T20:47:30.368928",
     "exception": false,
     "start_time": "2022-09-04T20:47:30.300858",
     "status": "completed"
    },
    "tags": []
   },
   "outputs": [],
   "source": [
    "def create_files(fname):\n",
    "  if fname == \"CTR\":\n",
    "   print(\"judgements are CTR\")\n",
    "   !cat ../input/entrp-srch/ENTRP-SRCH-v14.txt | grep -v -w \"8:0.0\" | awk '{$1=$10}1' | awk '{$10=\"\"}1' | sed 's/[ \\t]*$//' | cut -c 3- > ENTRP-SRCH-v14-CTR.txt\n",
    "   !for SITE in 1 2 3 4 5 6 7 8 9 10 11 12 13 14 15 16 17; do grep \"qid:${SITE} \" ENTRP-SRCH-v14-CTR.txt >> train.txt; done\n",
    "   !for SITE in 11 12 13 14 15 16 17; do grep \"qid:${SITE} \" ENTRP-SRCH-v14-CTR.txt  >> test.txt; done\n",
    "   !for SITE in 18 19 20; do grep \"qid:${SITE} \" ENTRP-SRCH-v14-CTR.txt  >> vali.txt; done\n",
    "  elif fname == \"HUMAN\":\n",
    "   print(\"judgements are HUMAN\")\n",
    "   !for SITE in 1 2 3 4 5 6 7 8 9 10 11 12 13 14 15 16 17; do grep \"qid:${SITE} \" ../input/entrp-srch/ENTRP-SRCH-v14.txt >> train.txt; done\n",
    "   !for SITE in 11 12 13 14 15 16 17; do grep \"qid:${SITE} \" ../input/entrp-srch/ENTRP-SRCH-v14.txt >> test.txt; done\n",
    "   !for SITE in 18 19 20; do grep \"qid:${SITE} \" ../input/entrp-srch/ENTRP-SRCH-v14.txt >> vali.txt; done\n",
    "  else:\n",
    "    print(\"fname not acceptable\")\n",
    "    "
   ]
  },
  {
   "cell_type": "code",
   "execution_count": 6,
   "metadata": {
    "execution": {
     "iopub.execute_input": "2022-09-04T20:47:30.422162Z",
     "iopub.status.busy": "2022-09-04T20:47:30.421482Z",
     "iopub.status.idle": "2022-09-04T20:47:30.424815Z",
     "shell.execute_reply": "2022-09-04T20:47:30.425407Z",
     "shell.execute_reply.started": "2022-09-04T20:45:59.888784Z"
    },
    "papermill": {
     "duration": 0.030785,
     "end_time": "2022-09-04T20:47:30.425556",
     "exception": false,
     "start_time": "2022-09-04T20:47:30.394771",
     "status": "completed"
    },
    "tags": []
   },
   "outputs": [],
   "source": [
    "#!ls -lrt"
   ]
  },
  {
   "cell_type": "code",
   "execution_count": 7,
   "metadata": {
    "execution": {
     "iopub.execute_input": "2022-09-04T20:47:30.477302Z",
     "iopub.status.busy": "2022-09-04T20:47:30.476572Z",
     "iopub.status.idle": "2022-09-04T20:47:30.479908Z",
     "shell.execute_reply": "2022-09-04T20:47:30.480487Z",
     "shell.execute_reply.started": "2022-09-04T20:45:59.908231Z"
    },
    "papermill": {
     "duration": 0.030731,
     "end_time": "2022-09-04T20:47:30.480644",
     "exception": false,
     "start_time": "2022-09-04T20:47:30.449913",
     "status": "completed"
    },
    "tags": []
   },
   "outputs": [],
   "source": [
    "# debug - verify data is in expected format\n",
    "#!head -1 train.txt; wc -l train.txt\n",
    "#!head -1 test.txt; wc -l test.txt\n",
    "#!head -1 vali.txt; wc -l vali.txt"
   ]
  },
  {
   "cell_type": "code",
   "execution_count": 8,
   "metadata": {
    "execution": {
     "iopub.execute_input": "2022-09-04T20:47:30.532350Z",
     "iopub.status.busy": "2022-09-04T20:47:30.531648Z",
     "iopub.status.idle": "2022-09-04T20:47:30.596062Z",
     "shell.execute_reply": "2022-09-04T20:47:30.596604Z",
     "shell.execute_reply.started": "2022-09-04T20:45:59.932029Z"
    },
    "papermill": {
     "duration": 0.091882,
     "end_time": "2022-09-04T20:47:30.596846",
     "exception": false,
     "start_time": "2022-09-04T20:47:30.504964",
     "status": "completed"
    },
    "tags": []
   },
   "outputs": [],
   "source": [
    "# prepare files for XGBoost (requires a different formatting than LETOR)\n",
    "def create_xgbfiles():\n",
    " print(\"preparing files in XGBoost format\")\n",
    " ## remove qid from the files.\n",
    " !sed 's/[[:space:]][a-z]*:[0-9]*//g' train.txt > train_dat.txt\n",
    " !sed 's/[[:space:]][a-z]*:[0-9]*//g' vali.txt > vali_dat.txt\n",
    " !sed 's/[[:space:]][a-z]*:[0-9]*//g' test.txt > test_dat.txt\n",
    " !echo \"removed qids\"\n",
    " # extract the qids to their own files\n",
    " !grep -oh \"qid:[0-9]*\" train.txt > qids.txt\n",
    " !grep -oh \"qid:[0-9]*\" test.txt > test_qids.txt\n",
    " !grep -oh \"qid:[0-9]*\" vali.txt > vali_qids.txt\n",
    " !echo \"extracted qids\"\n",
    " ## make freq table from qids\n",
    " !uniq -c qids.txt > train_dat1.txt.group\n",
    " !uniq -c test_qids.txt > test_dat1.txt.group\n",
    " !uniq -c vali_qids.txt > vali_dat1.txt.group\n",
    " !echo \"made frequency tables\"\n",
    " ## extract first entry from frequency table\n",
    " !awk -F \" \" '{print $1}' train_dat1.txt.group > train_dat.txt.group\n",
    " !awk -F \" \" '{print $1}' test_dat1.txt.group > test_dat.txt.group\n",
    " !awk -F \" \" '{print $1}' vali_dat1.txt.group > vali_dat.txt.group\n",
    "\n",
    "# !wc -l *   # debug"
   ]
  },
  {
   "cell_type": "code",
   "execution_count": 9,
   "metadata": {
    "execution": {
     "iopub.execute_input": "2022-09-04T20:47:30.648479Z",
     "iopub.status.busy": "2022-09-04T20:47:30.647831Z",
     "iopub.status.idle": "2022-09-04T20:47:31.734252Z",
     "shell.execute_reply": "2022-09-04T20:47:31.735031Z",
     "shell.execute_reply.started": "2022-09-04T20:45:59.993710Z"
    },
    "papermill": {
     "duration": 1.114054,
     "end_time": "2022-09-04T20:47:31.735198",
     "exception": false,
     "start_time": "2022-09-04T20:47:30.621144",
     "status": "completed"
    },
    "tags": []
   },
   "outputs": [
    {
     "name": "stdout",
     "output_type": "stream",
     "text": [
      "total 40\r\n",
      "---------- 1 root root 37522 Sep  4 20:47 __notebook__.ipynb\r\n"
     ]
    }
   ],
   "source": [
    "!ls -lrt"
   ]
  },
  {
   "cell_type": "code",
   "execution_count": 10,
   "metadata": {
    "execution": {
     "iopub.execute_input": "2022-09-04T20:47:31.789853Z",
     "iopub.status.busy": "2022-09-04T20:47:31.789136Z",
     "iopub.status.idle": "2022-09-04T20:47:31.792943Z",
     "shell.execute_reply": "2022-09-04T20:47:31.793499Z",
     "shell.execute_reply.started": "2022-09-04T20:46:01.084930Z"
    },
    "papermill": {
     "duration": 0.032835,
     "end_time": "2022-09-04T20:47:31.793658",
     "exception": false,
     "start_time": "2022-09-04T20:47:31.760823",
     "status": "completed"
    },
    "tags": []
   },
   "outputs": [],
   "source": [
    "#!uniq -c qids.txt   # debug"
   ]
  },
  {
   "cell_type": "code",
   "execution_count": 11,
   "metadata": {
    "execution": {
     "iopub.execute_input": "2022-09-04T20:47:31.846179Z",
     "iopub.status.busy": "2022-09-04T20:47:31.845494Z",
     "iopub.status.idle": "2022-09-04T20:47:31.850992Z",
     "shell.execute_reply": "2022-09-04T20:47:31.850423Z",
     "shell.execute_reply.started": "2022-09-04T20:46:01.092269Z"
    },
    "papermill": {
     "duration": 0.032855,
     "end_time": "2022-09-04T20:47:31.851121",
     "exception": false,
     "start_time": "2022-09-04T20:47:31.818266",
     "status": "completed"
    },
    "tags": []
   },
   "outputs": [],
   "source": [
    "def create_pd ():\n",
    "    training_data_set = pd.read_csv('train_dat.txt', sep = ' ', header = None) \n",
    "    testing_data_set = pd.read_csv('test_dat.txt', sep = ' ', header = None) \n"
   ]
  },
  {
   "cell_type": "markdown",
   "metadata": {
    "papermill": {
     "duration": 0.024125,
     "end_time": "2022-09-04T20:47:31.899744",
     "exception": false,
     "start_time": "2022-09-04T20:47:31.875619",
     "status": "completed"
    },
    "tags": []
   },
   "source": [
    "## Building a Model"
   ]
  },
  {
   "cell_type": "markdown",
   "metadata": {
    "papermill": {
     "duration": 0.023956,
     "end_time": "2022-09-04T20:47:31.948366",
     "exception": false,
     "start_time": "2022-09-04T20:47:31.924410",
     "status": "completed"
    },
    "tags": []
   },
   "source": [
    "We now set the model parameters:\n",
    "\n",
    "'max_depth' = number of layers in the tree\n",
    "'eta' = step shrinkage size, used to prevent overfitting\n",
    "'silent' = if 1, doesn't print updates. \n",
    "'objective' = which method is used/which objective function is minimised. 'rank:pairwise' implements LambdaMART.\n",
    "'num_round' = number of boosting rounds. "
   ]
  },
  {
   "cell_type": "markdown",
   "metadata": {
    "papermill": {
     "duration": 0.02468,
     "end_time": "2022-09-04T20:47:31.998643",
     "exception": false,
     "start_time": "2022-09-04T20:47:31.973963",
     "status": "completed"
    },
    "tags": []
   },
   "source": [
    "* rank:pairwise: Use LambdaMART to perform pairwise ranking where the pairwise loss is minimized \n",
    "* rank:ndcg: Use LambdaMART to perform list-wise ranking where Normalized Discounted Cumulative Gain (NDCG) is maximized"
   ]
  },
  {
   "cell_type": "code",
   "execution_count": 12,
   "metadata": {
    "execution": {
     "iopub.execute_input": "2022-09-04T20:47:32.054518Z",
     "iopub.status.busy": "2022-09-04T20:47:32.053541Z",
     "iopub.status.idle": "2022-09-04T20:47:32.056883Z",
     "shell.execute_reply": "2022-09-04T20:47:32.056340Z",
     "shell.execute_reply.started": "2022-09-04T20:46:01.101028Z"
    },
    "papermill": {
     "duration": 0.034008,
     "end_time": "2022-09-04T20:47:32.057013",
     "exception": false,
     "start_time": "2022-09-04T20:47:32.023005",
     "status": "completed"
    },
    "tags": []
   },
   "outputs": [],
   "source": [
    "def build_model ():\n",
    "    print(\"Commencing XGB DMatrix creation\")\n",
    "    training_data = xgb.DMatrix('train_dat.txt') \n",
    "    testing_data = xgb.DMatrix('test_dat.txt') \n",
    "    print(\"Building the XGB Model\")\n",
    "    param = {'max_depth':10, 'eta':0.3, 'objective':'rank:pairwise', 'num_round':15}\n",
    "    model = xgb.train(param, training_data)"
   ]
  },
  {
   "cell_type": "markdown",
   "metadata": {
    "papermill": {
     "duration": 0.024334,
     "end_time": "2022-09-04T20:47:32.105925",
     "exception": false,
     "start_time": "2022-09-04T20:47:32.081591",
     "status": "completed"
    },
    "tags": []
   },
   "source": [
    "## Visualising the model\n",
    "\n",
    "The model takes the form of a decision tree, where splits at nodes are conditional on the inputted features in the feature vector for each query.  "
   ]
  },
  {
   "cell_type": "code",
   "execution_count": 13,
   "metadata": {
    "execution": {
     "iopub.execute_input": "2022-09-04T20:47:32.163558Z",
     "iopub.status.busy": "2022-09-04T20:47:32.162850Z",
     "iopub.status.idle": "2022-09-04T20:47:32.164938Z",
     "shell.execute_reply": "2022-09-04T20:47:32.165445Z",
     "shell.execute_reply.started": "2022-09-04T20:46:01.111862Z"
    },
    "papermill": {
     "duration": 0.035209,
     "end_time": "2022-09-04T20:47:32.165598",
     "exception": false,
     "start_time": "2022-09-04T20:47:32.130389",
     "status": "completed"
    },
    "tags": []
   },
   "outputs": [],
   "source": [
    "def visualise_model ():\n",
    "    print(\"Visualizing the Model with matplotlib\")\n",
    "    %matplotlib inline\n",
    "    xgb.plot_tree(model, num_trees=3)\n",
    "    fig = matplotlib.pyplot.gcf()\n",
    "    fig.set_size_inches(150, 100)\n",
    "    ax = xgb.plot_importance(model, color='red')\n",
    "    fig = ax.figure\n",
    "    fig.set_size_inches(20, 20)"
   ]
  },
  {
   "cell_type": "markdown",
   "metadata": {
    "papermill": {
     "duration": 0.024132,
     "end_time": "2022-09-04T20:47:32.214246",
     "exception": false,
     "start_time": "2022-09-04T20:47:32.190114",
     "status": "completed"
    },
    "tags": []
   },
   "source": [
    "It is possible to look a the importance of each of the 6 features within the model. In the feature plot below we see that the most 'important' feature in determining the output of the model for a given input is feature 1 (BM25)\n",
    "\n",
    "\n",
    "* feature 1: BM25  (like tf-idf, but with a probablistic twist)\n",
    "* feature 2: documentRecency (last modification date)\n",
    "* feature 3: isContact  (url contains the word 'contact')\n",
    "* feature 4: isAbout    (url contains keyword 'about')\n",
    "* feature 5: rawHits    (a measure of document popularity)\n",
    "* feature 6: urlLength  (number of terms in url path hierarchy)\n",
    "* feature 7: linkRank  (Like Google's PageRank, but for ES)\n",
    "* feature 8: clickThru  (CTR rate taken over a six-month period)\n",
    "\n"
   ]
  },
  {
   "cell_type": "markdown",
   "metadata": {
    "papermill": {
     "duration": 0.024065,
     "end_time": "2022-09-04T20:47:32.262646",
     "exception": false,
     "start_time": "2022-09-04T20:47:32.238581",
     "status": "completed"
    },
    "tags": []
   },
   "source": [
    "## Making predictions"
   ]
  },
  {
   "cell_type": "markdown",
   "metadata": {
    "papermill": {
     "duration": 0.024146,
     "end_time": "2022-09-04T20:47:32.311357",
     "exception": false,
     "start_time": "2022-09-04T20:47:32.287211",
     "status": "completed"
    },
    "tags": []
   },
   "source": [
    "'preds' contains predicted relelvance values for all of the queries in the testing data set. We want to compute the normalised discounted cumulative gain, or ndgc, of the results, in order to quantify the goodness of the model. This will allow us to compare models and tuning parameters. \n",
    "\n",
    "Predictions are made by passing a feature vector from the testing data set through the decision tree, ending at a leaf which gives a numerical value. The numerical value represents the relavance of that document for that query. "
   ]
  },
  {
   "cell_type": "code",
   "execution_count": 14,
   "metadata": {
    "execution": {
     "iopub.execute_input": "2022-09-04T20:47:32.363377Z",
     "iopub.status.busy": "2022-09-04T20:47:32.362679Z",
     "iopub.status.idle": "2022-09-04T20:47:32.366008Z",
     "shell.execute_reply": "2022-09-04T20:47:32.366559Z",
     "shell.execute_reply.started": "2022-09-04T20:46:01.121267Z"
    },
    "papermill": {
     "duration": 0.030915,
     "end_time": "2022-09-04T20:47:32.366732",
     "exception": false,
     "start_time": "2022-09-04T20:47:32.335817",
     "status": "completed"
    },
    "tags": []
   },
   "outputs": [],
   "source": [
    "#preds = model.predict(testing_data)"
   ]
  },
  {
   "cell_type": "code",
   "execution_count": 15,
   "metadata": {
    "execution": {
     "iopub.execute_input": "2022-09-04T20:47:32.421887Z",
     "iopub.status.busy": "2022-09-04T20:47:32.421192Z",
     "iopub.status.idle": "2022-09-04T20:47:32.424866Z",
     "shell.execute_reply": "2022-09-04T20:47:32.425415Z",
     "shell.execute_reply.started": "2022-09-04T20:46:01.134367Z"
    },
    "papermill": {
     "duration": 0.033128,
     "end_time": "2022-09-04T20:47:32.425573",
     "exception": false,
     "start_time": "2022-09-04T20:47:32.392445",
     "status": "completed"
    },
    "tags": []
   },
   "outputs": [],
   "source": [
    "#preds   #debug"
   ]
  },
  {
   "cell_type": "markdown",
   "metadata": {
    "papermill": {
     "duration": 0.024578,
     "end_time": "2022-09-04T20:47:32.474944",
     "exception": false,
     "start_time": "2022-09-04T20:47:32.450366",
     "status": "completed"
    },
    "tags": []
   },
   "source": [
    "#  Normal Distributed Cumulative Gain \n",
    "ndcg is a metric commonly used to rate the output of learning to rank models.\n",
    "ndcg is a measure of the relative goodness of the output of the ranking algorithm, and takes value between 0 and 1, with a 1 denoting that the algorithm has optimally ordered the pages for a query, and a 0 denoting that the pages have been reverse ordered. "
   ]
  },
  {
   "cell_type": "code",
   "execution_count": 16,
   "metadata": {
    "execution": {
     "iopub.execute_input": "2022-09-04T20:47:32.527603Z",
     "iopub.status.busy": "2022-09-04T20:47:32.526945Z",
     "iopub.status.idle": "2022-09-04T20:47:32.536135Z",
     "shell.execute_reply": "2022-09-04T20:47:32.536674Z",
     "shell.execute_reply.started": "2022-09-04T20:46:01.145144Z"
    },
    "papermill": {
     "duration": 0.03709,
     "end_time": "2022-09-04T20:47:32.536856",
     "exception": false,
     "start_time": "2022-09-04T20:47:32.499766",
     "status": "completed"
    },
    "tags": []
   },
   "outputs": [],
   "source": [
    "\"\"\" this returns 0 if all of the ordered data is undesirable\"\"\"\n",
    "def ndcg_p(ordered_data, p):\n",
    "    \"\"\"normalised discounted cumulative gain\"\"\"\n",
    "    if sum(ordered_data)==0:\n",
    "        return 0\n",
    "    else:\n",
    "        indexloop = range(0, p)\n",
    "        DCG_p = 0\n",
    "        for index in indexloop:\n",
    "            current_ratio=(2**(ordered_data[index])-1)*(math.log((float(index)+2), 2)**(-1))\n",
    "            DCG_p = DCG_p + current_ratio\n",
    "        ordered_data.sort(reverse=True)  \n",
    "        K = len(ordered_data)\n",
    "        indexloop = range(0, K)\n",
    "        iDCG_p = 0\n",
    "        for index in indexloop:\n",
    "            current_ratio=(2**(ordered_data[index])-1)*((math.log((index+2), 2))**(-1))\n",
    "            iDCG_p = iDCG_p + current_ratio\n",
    "        return(DCG_p/iDCG_p)"
   ]
  },
  {
   "cell_type": "code",
   "execution_count": 17,
   "metadata": {
    "execution": {
     "iopub.execute_input": "2022-09-04T20:47:32.589634Z",
     "iopub.status.busy": "2022-09-04T20:47:32.588967Z",
     "iopub.status.idle": "2022-09-04T20:47:32.592949Z",
     "shell.execute_reply": "2022-09-04T20:47:32.593485Z",
     "shell.execute_reply.started": "2022-09-04T20:46:01.156730Z"
    },
    "papermill": {
     "duration": 0.032005,
     "end_time": "2022-09-04T20:47:32.593634",
     "exception": false,
     "start_time": "2022-09-04T20:47:32.561629",
     "status": "completed"
    },
    "tags": []
   },
   "outputs": [],
   "source": [
    "#!cat train_dat.txt.group | wc -l  # debug, should be 20 queries"
   ]
  },
  {
   "cell_type": "code",
   "execution_count": 18,
   "metadata": {
    "execution": {
     "iopub.execute_input": "2022-09-04T20:47:32.646229Z",
     "iopub.status.busy": "2022-09-04T20:47:32.645501Z",
     "iopub.status.idle": "2022-09-04T20:47:32.653787Z",
     "shell.execute_reply": "2022-09-04T20:47:32.654309Z",
     "shell.execute_reply.started": "2022-09-04T20:46:01.167657Z"
    },
    "papermill": {
     "duration": 0.036103,
     "end_time": "2022-09-04T20:47:32.654456",
     "exception": false,
     "start_time": "2022-09-04T20:47:32.618353",
     "status": "completed"
    },
    "tags": []
   },
   "outputs": [],
   "source": [
    "\n",
    "def ndcg_compute ():\n",
    "    f = open('vali_dat.txt.group', 'r')\n",
    "    x = f.readlines()\n",
    "    groups =[]\n",
    "    for line in x:\n",
    "        groups.append(int(line))\n",
    "    f.close()\n",
    "    testing_labels = testing_data.get_label()\n",
    "    ## compute ndgc for each query.\n",
    "    nquerys=range(0,len(groups))\n",
    "    lower=0\n",
    "    upper=0\n",
    "    ndcgs=[]\n",
    "    for i in nquerys:\n",
    "        many=groups[i]\n",
    "        upper = upper+many\n",
    "        predicted = preds[lower:upper]\n",
    "        labled = testing_labels[lower:upper]\n",
    "        ordered = [x for _,x in sorted(zip(predicted,labled), reverse=True)]\n",
    "        result = ndcg_p(ordered, many)\n",
    "        ndcgs.append(result)\n",
    "        lower=upper\n",
    "    ndcgs # debug"
   ]
  },
  {
   "cell_type": "code",
   "execution_count": 19,
   "metadata": {
    "execution": {
     "iopub.execute_input": "2022-09-04T20:47:32.717232Z",
     "iopub.status.busy": "2022-09-04T20:47:32.716143Z",
     "iopub.status.idle": "2022-09-04T20:47:32.719053Z",
     "shell.execute_reply": "2022-09-04T20:47:32.719821Z",
     "shell.execute_reply.started": "2022-09-04T20:46:01.181801Z"
    },
    "papermill": {
     "duration": 0.041071,
     "end_time": "2022-09-04T20:47:32.720038",
     "exception": false,
     "start_time": "2022-09-04T20:47:32.678967",
     "status": "completed"
    },
    "tags": []
   },
   "outputs": [],
   "source": [
    "# evaluate using the nDCG metric\n",
    "def dcg_at_k(r, k, method=0):\n",
    "    r = np.asfarray(r)[:k]\n",
    "    if r.size:\n",
    "        if method == 0:\n",
    "            return r[0] + np.sum(r[1:] / np.log2(np.arange(2, r.size + 1)))\n",
    "        elif method == 1:\n",
    "            return np.sum(r / np.log2(np.arange(2, r.size + 2)))\n",
    "        else:\n",
    "            raise ValueError('method must be 0 or 1.')\n",
    "    return 0.\n",
    "\n",
    "def ndcg_at_k(r, k, method=0):\n",
    "    dcg_max = dcg_at_k(sorted(r, reverse=True), k, method)\n",
    "    if not dcg_max:\n",
    "        return 0.\n",
    "    return dcg_at_k(r, k, method) / dcg_max"
   ]
  },
  {
   "cell_type": "markdown",
   "metadata": {
    "papermill": {
     "duration": 0.032944,
     "end_time": "2022-09-04T20:47:32.779432",
     "exception": false,
     "start_time": "2022-09-04T20:47:32.746488",
     "status": "completed"
    },
    "tags": []
   },
   "source": [
    "# **nDCG Scores**"
   ]
  },
  {
   "cell_type": "code",
   "execution_count": 20,
   "metadata": {
    "execution": {
     "iopub.execute_input": "2022-09-04T20:47:32.839569Z",
     "iopub.status.busy": "2022-09-04T20:47:32.838317Z",
     "iopub.status.idle": "2022-09-04T20:47:32.844675Z",
     "shell.execute_reply": "2022-09-04T20:47:32.845236Z",
     "shell.execute_reply.started": "2022-09-04T20:46:01.192009Z"
    },
    "papermill": {
     "duration": 0.037345,
     "end_time": "2022-09-04T20:47:32.845400",
     "exception": false,
     "start_time": "2022-09-04T20:47:32.808055",
     "status": "completed"
    },
    "tags": []
   },
   "outputs": [],
   "source": [
    "def ndcg_list (judgement):\n",
    "    print(\"Generating the ndcg scores for \" +judgement)\n",
    "    cutoffs = [1,3,5,10,20,100,200]\n",
    "    for x in cutoffs:         \n",
    "        #df_ndcg['cutoffs'] = x                     \n",
    "        print (\"nDCG@\"+ str(x) + '  '\" %s \" % (ndcg_at_k(preds,x, method=1)))\n",
    "        #print (ndcg_at_k(preds,x, method=1))\n",
    "      \n"
   ]
  },
  {
   "cell_type": "code",
   "execution_count": 21,
   "metadata": {
    "execution": {
     "iopub.execute_input": "2022-09-04T20:47:32.899935Z",
     "iopub.status.busy": "2022-09-04T20:47:32.898878Z",
     "iopub.status.idle": "2022-09-04T20:47:32.902745Z",
     "shell.execute_reply": "2022-09-04T20:47:32.903326Z",
     "shell.execute_reply.started": "2022-09-04T20:46:01.205829Z"
    },
    "papermill": {
     "duration": 0.032376,
     "end_time": "2022-09-04T20:47:32.903489",
     "exception": false,
     "start_time": "2022-09-04T20:47:32.871113",
     "status": "completed"
    },
    "tags": []
   },
   "outputs": [],
   "source": [
    "#ndcg_at_k(preds,5, method=1)"
   ]
  },
  {
   "cell_type": "code",
   "execution_count": 22,
   "metadata": {
    "execution": {
     "iopub.execute_input": "2022-09-04T20:47:32.957645Z",
     "iopub.status.busy": "2022-09-04T20:47:32.956616Z",
     "iopub.status.idle": "2022-09-04T20:47:32.966444Z",
     "shell.execute_reply": "2022-09-04T20:47:32.967223Z",
     "shell.execute_reply.started": "2022-09-04T20:46:01.214906Z"
    },
    "papermill": {
     "duration": 0.038987,
     "end_time": "2022-09-04T20:47:32.967411",
     "exception": false,
     "start_time": "2022-09-04T20:47:32.928424",
     "status": "completed"
    },
    "tags": []
   },
   "outputs": [],
   "source": [
    "def ndcg_array (judgements):\n",
    " cutoffs = [1,3,5,10,20,100,200]\n",
    " df_ndcg = pd.DataFrame(columns=['cutoffs','HUMAN','CTR']) \n",
    " df_ndcg.set_index('cutoffs')\n",
    "\n",
    " for x in cutoffs: \n",
    "        if judgements == \"HUMAN\":\n",
    "         new_row = {'cutoffs':int(x), 'HUMAN':ndcg_at_k(preds,x, method=1)} \n",
    "         #print(new_row)\n",
    "         df_ndcg = df_ndcg.append(pd.Series(new_row, index=df_ndcg.columns[:len(new_row)]), ignore_index=True)\n",
    "        elif judgements == \"CTR\":\n",
    "         new_row = {'cutoffs':int(x), 'HUMAN':np.nan, 'CTR':ndcg_at_k(preds,x, method=1)} \n",
    "         #new_row = (df_ndcg.loc[df_ndcg['cutoffs'] == int(x), 'HUMAN'])\n",
    "         #print(new_row)\n",
    "         #df_ndcg.loc[3] = new_row\n",
    "         #df_ndcg = df_ndcg.append(pd.Series(new_row, index=df_ndcg.columns[:len(new_row)]), ignore_index=True)\n",
    "         df_ndcg = df_ndcg.append(pd.Series(new_row, index=df_ndcg.columns),ignore_index=True)\n",
    "         #df_ndcg = df_ndcg.append(pd.Series(new_row, index=df_ndcg['cutoffs']),ignore_index=False) \n",
    "         #df_ndcg.loc[:1] = [['cutoffs',5],'CTR',2]\n",
    "\n",
    " print(df_ndcg)\n",
    "\n",
    "\n"
   ]
  },
  {
   "cell_type": "code",
   "execution_count": 23,
   "metadata": {
    "execution": {
     "iopub.execute_input": "2022-09-04T20:47:33.020965Z",
     "iopub.status.busy": "2022-09-04T20:47:33.019962Z",
     "iopub.status.idle": "2022-09-04T20:47:33.030040Z",
     "shell.execute_reply": "2022-09-04T20:47:33.030515Z",
     "shell.execute_reply.started": "2022-09-04T20:46:01.233515Z"
    },
    "papermill": {
     "duration": 0.038181,
     "end_time": "2022-09-04T20:47:33.030685",
     "exception": false,
     "start_time": "2022-09-04T20:47:32.992504",
     "status": "completed"
    },
    "tags": []
   },
   "outputs": [],
   "source": [
    "def ndcg_array2 (judgements):\n",
    " #!rm *_ndcg.txt 2>/dev/null\n",
    " cutoffs = [1,3,5,10,20,100,200]\n",
    " df_ndcg = pd.DataFrame(columns=['cutoffs','HUMAN','CTR']) \n",
    " df_ndcg.set_index('cutoffs')\n",
    " # judgements=['HUMAN','CTR']\n",
    " #judgements='CTR'\n",
    " #for y in judgements:\n",
    " for x in cutoffs: \n",
    "          #print(y,x)\n",
    "          if judgements == \"HUMAN\":\n",
    "           new_row_human = {'cutoffs':int(x), 'HUMAN':ndcg_at_k(preds,x, method=1), 'CTR':0.00} \n",
    "           #print(new_row_human)\n",
    "           df_ndcg = df_ndcg.append(pd.Series(new_row_human, index=df_ndcg.columns[:len(new_row_human)]), ignore_index=True)\n",
    "           df_ndcg.to_csv('human_ndcg.txt', sep=' ', encoding='utf-8', index=False)\n",
    "           #!cat human_ndcg.txt\n",
    "          elif judgements == \"CTR\":\n",
    "            new_row_ctr = {'cutoffs':int(x), 'HUMAN':0.0, 'CTR':ndcg_at_k(preds,x, method=1)} \n",
    "            #print(new_row_ctr)\n",
    "            df_ndcg = df_ndcg.append(pd.Series(new_row_ctr, index=df_ndcg.columns[:len(new_row_ctr)]), ignore_index=True)\n",
    "            df_ndcg.to_csv('ctr_ndcg.txt', sep=' ', encoding='utf-8', index=False)\n",
    "\n"
   ]
  },
  {
   "cell_type": "code",
   "execution_count": 24,
   "metadata": {
    "execution": {
     "iopub.execute_input": "2022-09-04T20:47:33.085231Z",
     "iopub.status.busy": "2022-09-04T20:47:33.084261Z",
     "iopub.status.idle": "2022-09-04T20:47:33.095308Z",
     "shell.execute_reply": "2022-09-04T20:47:33.094686Z",
     "shell.execute_reply.started": "2022-09-04T20:46:01.244854Z"
    },
    "papermill": {
     "duration": 0.039769,
     "end_time": "2022-09-04T20:47:33.095431",
     "exception": false,
     "start_time": "2022-09-04T20:47:33.055662",
     "status": "completed"
    },
    "tags": []
   },
   "outputs": [],
   "source": [
    "\n",
    "def ndcg_array3 (judgements, df_ndcg_human, df_ndcg_ctr):\n",
    " #!rm *_ndcg.txt 2>/dev/null\n",
    " cutoffs = [1,3,5,10,20] #,100,200]\n",
    " df_ndcg = pd.DataFrame(columns=['cutoffs','judgement','nDCG']) \n",
    " # judgements=['HUMAN','CTR']\n",
    "\n",
    " for x in cutoffs: \n",
    "          #print(y,x)\n",
    "          if judgements == \"HUMAN\":\n",
    "           new_row_human = {'cutoffs':int(x), 'judgement':'HUMAN','nDCG':ndcg_at_k(preds,x, method=1)} \n",
    "           df_ndcg_human = df_ndcg_human.append(pd.Series(new_row_human, index=df_ndcg_human.columns[:len(new_row_human)]), ignore_index=True)\n",
    "           df_ndcg_human.to_csv('human_ndcg.txt', sep=' ', encoding='utf-8', index=False)\n",
    "           #!cat human_ndcg.txt\n",
    "          elif judgements == \"CTR\":\n",
    "            new_row_ctr = {'cutoffs':int(x), 'judgement':'CTR','nDCG':ndcg_at_k(preds,x, method=1)} \n",
    "            df_ndcg_ctr = df_ndcg_ctr.append(pd.Series(new_row_ctr, index=df_ndcg_ctr.columns[:len(new_row_ctr)]), ignore_index=True)\n",
    "            df_ndcg_ctr.to_csv('ctr_ndcg.txt', sep=' ', encoding='utf-8',  header=False, index=False)\n"
   ]
  },
  {
   "cell_type": "markdown",
   "metadata": {
    "papermill": {
     "duration": 0.024307,
     "end_time": "2022-09-04T20:47:33.144466",
     "exception": false,
     "start_time": "2022-09-04T20:47:33.120159",
     "status": "completed"
    },
    "tags": []
   },
   "source": [
    "# ****nDCG Plot****"
   ]
  },
  {
   "cell_type": "code",
   "execution_count": 25,
   "metadata": {
    "execution": {
     "iopub.execute_input": "2022-09-04T20:47:33.202463Z",
     "iopub.status.busy": "2022-09-04T20:47:33.201709Z",
     "iopub.status.idle": "2022-09-04T20:47:33.210708Z",
     "shell.execute_reply": "2022-09-04T20:47:33.211271Z",
     "shell.execute_reply.started": "2022-09-04T20:46:01.258860Z"
    },
    "papermill": {
     "duration": 0.042369,
     "end_time": "2022-09-04T20:47:33.211422",
     "exception": false,
     "start_time": "2022-09-04T20:47:33.169053",
     "status": "completed"
    },
    "tags": []
   },
   "outputs": [],
   "source": [
    "def ndcg_plot():\n",
    " import seaborn as sns\n",
    " import matplotlib.pyplot as plt\n",
    " sns.set(rc = {'figure.figsize':(15,8)})\n",
    " !cat human_ndcg.txt ctr_ndcg.txt  > all_ndcg.txt\n",
    " #!cat all_ndcg.txt\n",
    " all_ndcg = pd.read_csv('all_ndcg.txt', sep = ' ')\n",
    " all_ndcg = pd.read_csv('all_ndcg.txt', sep = ' ')\n",
    " #create grouped bar chart\n",
    " ax = sns.barplot(y='nDCG', x='cutoffs', hue='judgement', data=all_ndcg, ci=None, palette=[\"C0\", \"grey\", \"k\"])\n",
    "\n",
    " ax.set_xlabel(\"nDCG cutoff\")\n",
    " ax.set_ylabel(\"nDCG score\")\n",
    " ax.set_title(\"nDCG scores for various cutoffs using explicit(Human) and implicit(Clickthough rate) feedback\",fontsize=16, weight='bold') \n",
    "\n",
    " sns.set(style=\"whitegrid\", color_codes=True)\n",
    "\n",
    " hatches = [\".\", \"\\\\\\\\\", \"|\"]\n",
    " # Loop over the bars\n",
    " for bars, hatch in zip(ax.containers, hatches):\n",
    "    # Set a different hatch for each group of bars\n",
    "    for bar in bars:\n",
    "        bar.set_hatch(hatch)\n",
    " # create the legend again to show the new hatching\n",
    " ax.legend(title='Judgement type')\n",
    "\n",
    " plt.show()\n",
    "\n"
   ]
  },
  {
   "cell_type": "markdown",
   "metadata": {
    "papermill": {
     "duration": 0.024328,
     "end_time": "2022-09-04T20:47:33.260461",
     "exception": false,
     "start_time": "2022-09-04T20:47:33.236133",
     "status": "completed"
    },
    "tags": []
   },
   "source": [
    "## **MAIN**"
   ]
  },
  {
   "cell_type": "code",
   "execution_count": 26,
   "metadata": {
    "execution": {
     "iopub.execute_input": "2022-09-04T20:47:33.318112Z",
     "iopub.status.busy": "2022-09-04T20:47:33.312243Z",
     "iopub.status.idle": "2022-09-04T20:48:16.033326Z",
     "shell.execute_reply": "2022-09-04T20:48:16.032816Z",
     "shell.execute_reply.started": "2022-09-04T20:46:01.275009Z"
    },
    "papermill": {
     "duration": 42.748475,
     "end_time": "2022-09-04T20:48:16.033448",
     "exception": false,
     "start_time": "2022-09-04T20:47:33.284973",
     "status": "completed"
    },
    "tags": []
   },
   "outputs": [
    {
     "name": "stdout",
     "output_type": "stream",
     "text": [
      "judgements are HUMAN\n",
      "preparing files in XGBoost format\n",
      "removed qids\r\n",
      "extracted qids\r\n",
      "made frequency tables\r\n",
      "Commencing XGB DMatrix creation\n",
      "[20:47:53] 2169x9 matrix with 17352 entries loaded from train_dat.txt\n",
      "[20:47:53] 17 groups are loaded from train_dat.txt.group\n",
      "[20:47:53] 963x9 matrix with 7704 entries loaded from test_dat.txt\n",
      "[20:47:53] 7 groups are loaded from test_dat.txt.group\n",
      "Building the XGB Model\n",
      "[20:47:53] WARNING: /workspace/src/learner.cc:480: \n",
      "Parameters: { num_round } might not be used.\n",
      "\n",
      "  This may not be accurate due to some parameters are only used in language bindings but\n",
      "  passed down to XGBoost core.  Or some parameters are not used but slip through this\n",
      "  verification. Please open an issue if you find above cases.\n",
      "\n",
      "\n",
      "Generating the ndcg scores for HUMAN\n",
      "nDCG@1   0.9963133227255444 \n",
      "nDCG@3   0.9921937919387633 \n",
      "nDCG@5   0.9488328221178192 \n",
      "nDCG@10   0.7621972344483263 \n",
      "nDCG@20   0.5033790399031836 \n",
      "nDCG@100   0.2630017149007013 \n",
      "nDCG@200   0.2056579163224211 \n",
      "judgements are CTR\n",
      "preparing files in XGBoost format\n",
      "removed qids\r\n",
      "extracted qids\r\n",
      "made frequency tables\r\n",
      "Commencing XGB DMatrix creation\n",
      "[20:48:14] 358x8 matrix with 2506 entries loaded from train_dat.txt\n",
      "[20:48:14] 17 groups are loaded from train_dat.txt.group\n",
      "[20:48:14] 158x8 matrix with 1106 entries loaded from test_dat.txt\n",
      "[20:48:14] 7 groups are loaded from test_dat.txt.group\n",
      "Building the XGB Model\n",
      "[20:48:14] WARNING: /workspace/src/learner.cc:480: \n",
      "Parameters: { num_round } might not be used.\n",
      "\n",
      "  This may not be accurate due to some parameters are only used in language bindings but\n",
      "  passed down to XGBoost core.  Or some parameters are not used but slip through this\n",
      "  verification. Please open an issue if you find above cases.\n",
      "\n",
      "\n",
      "Generating the ndcg scores for CTR\n",
      "nDCG@1   0.9918394931116491 \n",
      "nDCG@3   0.7918027912189116 \n",
      "nDCG@5   0.778550981425725 \n",
      "nDCG@10   0.5237925785908275 \n",
      "nDCG@20   0.33382734932311187 \n",
      "nDCG@100   0.3475989979389176 \n",
      "nDCG@200   0.5726692292992668 \n"
     ]
    },
    {
     "data": {
      "image/png": "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\n",
      "text/plain": [
       "<Figure size 1080x576 with 1 Axes>"
      ]
     },
     "metadata": {},
     "output_type": "display_data"
    }
   ],
   "source": [
    "\n",
    "judgements = [\"HUMAN\", \"CTR\"]\n",
    "for x in judgements:\n",
    "    cleanup ()\n",
    "    create_files(x)\n",
    "    create_xgbfiles ()\n",
    "    create_pd ()\n",
    "    print(\"Commencing XGB DMatrix creation\")\n",
    "    training_data = xgb.DMatrix('train_dat.txt') \n",
    "    testing_data = xgb.DMatrix('test_dat.txt') \n",
    "    print(\"Building the XGB Model\")\n",
    "    param = {'max_depth':10, 'eta':0.3, 'objective':'rank:pairwise', 'num_round':15}\n",
    "    model = xgb.train(param, training_data)\n",
    "    #visualise_model ()\n",
    "    preds = model.predict(testing_data)\n",
    "    ndcg_compute ()\n",
    "    ndcg_list (x)\n",
    "    df_ndcg_human = pd.DataFrame(columns=['cutoffs','judgement','nDCG']) \n",
    "    df_ndcg_ctr = pd.DataFrame(columns=['cutoffs','judgement','nDCG']) \n",
    "    ndcg_array3(x, df_ndcg_human, df_ndcg_ctr)\n",
    "    \n",
    "\n",
    "ndcg_plot()\n",
    "\n"
   ]
  }
 ],
 "metadata": {
  "kernelspec": {
   "display_name": "Python 3",
   "language": "python",
   "name": "python3"
  },
  "language_info": {
   "codemirror_mode": {
    "name": "ipython",
    "version": 3
   },
   "file_extension": ".py",
   "mimetype": "text/x-python",
   "name": "python",
   "nbconvert_exporter": "python",
   "pygments_lexer": "ipython3",
   "version": "3.7.6"
  },
  "papermill": {
   "duration": 52.139887,
   "end_time": "2022-09-04T20:48:16.171232",
   "environment_variables": {},
   "exception": null,
   "input_path": "__notebook__.ipynb",
   "output_path": "__notebook__.ipynb",
   "parameters": {},
   "start_time": "2022-09-04T20:47:24.031345",
   "version": "2.1.0"
  }
 },
 "nbformat": 4,
 "nbformat_minor": 4
}
